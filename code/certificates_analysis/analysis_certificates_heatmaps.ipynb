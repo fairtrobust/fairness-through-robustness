{
 "cells": [
  {
   "cell_type": "code",
   "execution_count": 1,
   "metadata": {},
   "outputs": [],
   "source": [
    "import numpy as np\n",
    "import pandas as pd\n",
    "import glob\n",
    "from matplotlib import pyplot as plt\n",
    "\n",
    "import sys\n",
    "sys.path.insert(0, '..')\n",
    "sys.path.insert(0, '../../util')\n",
    "\n",
    "import helper as hp"
   ]
  },
  {
   "cell_type": "code",
   "execution_count": 19,
   "metadata": {},
   "outputs": [],
   "source": [
    "dataset_to_labels = {\n",
    "    'cifar10': ['airplane', 'automobile', 'bird', 'cat', 'deer', 'dog', 'frog', 'horse', 'ship', 'truck'],\n",
    "    \n",
    "    'utkface': ['0-15', '15-25', '25-40', '40-60', '60+'],\n",
    "    \n",
    "    'adience': ['0-2', '4-6', '8-13', '15-20', '25-32', '38-43', '48-53', '60-'],\n",
    "    \n",
    "    'cifar100': ['beaver', 'dolphin', 'otter', 'seal', 'whale',\n",
    "        'aquarium_fish', 'flatfish', 'ray', 'shark', 'trout',\n",
    "        'orchid', 'poppy', 'rose', 'sunflower', 'tulip',\n",
    "        'bottle', 'bowl', 'can', 'cup', 'plate',\n",
    "        'apple', 'mushroom', 'orange', 'pear', 'sweet_pepper',\n",
    "        'clock', 'keyboard', 'lamp', 'telephone', 'television',\n",
    "        'bed', 'chair', 'couch', 'table', 'wardrobe',\n",
    "        'bee', 'beetle', 'butterfly', 'caterpillar', 'cockroach',\n",
    "        'bear', 'leopard', 'lion', 'tiger', 'wolf',\n",
    "        'bridge', 'castle', 'house', 'road', 'skyscraper',\n",
    "        'cloud', 'forest', 'mountain', 'plain', 'sea',\n",
    "        'camel', 'cattle', 'chimpanzee', 'elephant', 'kangaroo',\n",
    "        'fox', 'porcupine', 'possum', 'raccoon', 'skunk',\n",
    "        'crab', 'lobster', 'snail', 'spider', 'worm',\n",
    "        'baby', 'boy', 'girl', 'man', 'woman',\n",
    "        'crocodile', 'dinosaur', 'lizard', 'snake', 'turtle',\n",
    "        'hamster', 'mouse', 'rabbit', 'shrew', 'squirrel',\n",
    "        'maple_tree', 'oak_tree', 'palm_tree', 'pine_tree', 'willow_tree',\n",
    "        'bicycle', 'bus', 'motorcycle', 'pickup_truck', 'train',\n",
    "        'lawn_mower', 'rocket', 'streetcar', 'tank', 'tractor'],\n",
    "    \n",
    "    'cifar100super': ['aquatic_mammals', 'fish', 'flowers', 'food_containers',\n",
    "        'fruit_and_vegetables', 'household_electrical_devices',\n",
    "        'household_furniture', 'insects', 'large_carnivores',\n",
    "        'large_man-made_outdoor_things', 'large_natural_outdoor_scenes',\n",
    "        'large_omnivores_and_herbivores', 'medium_mammals',\n",
    "        'non-insect_invertebrates', 'people', 'reptiles', 'small_mammals',\n",
    "        'trees', 'vehicles_1', 'vehicles_2']\n",
    "}\n",
    "\n",
    "dataset_to_root_dir = {\n",
    "    'cifar10': '/NS/twitter-7/work/vnanda/adversarial_disparity/microsoft-smoothing/code/cifar10',\n",
    "    'utkface': '/NS/twitter-7/work/vnanda/adversarial_disparity/microsoft-smoothing/code/utkface',\n",
    "    'adience': '/NS/twitter-7/work/vnanda/adversarial_disparity/microsoft-smoothing/code/adience',\n",
    "    'cifar100': '/NS/twitter-7/work/vnanda/adversarial_disparity/microsoft-smoothing/code/cifar100',\n",
    "    'cifar100super': '/NS/twitter-7/work/vnanda/adversarial_disparity/microsoft-smoothing/code/cifar100super'\n",
    "}\n",
    "\n",
    "dataset_to_sens_attrs = {\n",
    "    'cifar10': ['label'],\n",
    "    'utkface': ['label', 'gender', 'race'],\n",
    "    'adience': ['label', 'gender'],\n",
    "    'cifar100': ['label'],\n",
    "    'cifar100super': ['label']\n",
    "}\n",
    "\n",
    "dataset_to_model_names = {\n",
    "    'utkface': ['utk_classifier', 'resnet', 'alexnet', 'vgg', 'densenet', 'squeezenet'],\n",
    "    'cifar10': ['deep_cnn', 'pyramidnet', 'resnet', 'vgg', 'densenet', 'squeezenet'],\n",
    "    'cifar100': ['deep_cnn_cifar100', 'pyramidnet', 'resnet', 'vgg', 'densenet', 'squeezenet'],\n",
    "    'cifar100super': ['deep_cnn_cifar100', 'pyramidnet', 'resnet', 'vgg', 'densenet', 'squeezenet'],\n",
    "    'adience': ['adience_classifier', 'resnet', 'alexnet', 'vgg', 'densenet', 'squeezenet']\n",
    "}"
   ]
  },
  {
   "cell_type": "code",
   "execution_count": 91,
   "metadata": {},
   "outputs": [],
   "source": [
    "dataset = 'cifar100super'\n",
    "labels = dataset_to_labels[dataset]\n",
    "root_dir = dataset_to_root_dir[dataset]\n",
    "sens_attrs = dataset_to_sens_attrs[dataset]\n",
    "models = dataset_to_model_names[dataset]\n",
    "# lb_files = glob.glob('{}/*'.format(root_dir))\n",
    "lb_files = ['{}/{}_output'.format(root_dir, m) for m in models]\n",
    "lb_files_epoch_0 = ['{}/{}_epoch_0_output'.format(root_dir, m) for m in models]\n",
    "\n",
    "paper_friendly_plots = True\n",
    "\n",
    "COLORS = ['blue', 'red', 'green', 'orange', 'magenta', 'yellow', 'black', 'grey', 'cyan']"
   ]
  },
  {
   "cell_type": "code",
   "execution_count": 92,
   "metadata": {},
   "outputs": [
    {
     "name": "stdout",
     "output_type": "stream",
     "text": [
      "Files already downloaded and verified\n",
      "Files already downloaded and verified\n"
     ]
    }
   ],
   "source": [
    "ds_obj, datasets, data_loaders = \\\n",
    "    hp.get_data_loder_objects(dataset, ['test'], root_dir='..', **hp.get_loader_kwargs(batch_size=100))"
   ]
  },
  {
   "cell_type": "code",
   "execution_count": 93,
   "metadata": {},
   "outputs": [
    {
     "data": {
      "text/plain": [
       "(['/NS/twitter-7/work/vnanda/adversarial_disparity/microsoft-smoothing/code/cifar100super/deep_cnn_cifar100_output',\n",
       "  '/NS/twitter-7/work/vnanda/adversarial_disparity/microsoft-smoothing/code/cifar100super/pyramidnet_output',\n",
       "  '/NS/twitter-7/work/vnanda/adversarial_disparity/microsoft-smoothing/code/cifar100super/resnet_output',\n",
       "  '/NS/twitter-7/work/vnanda/adversarial_disparity/microsoft-smoothing/code/cifar100super/vgg_output',\n",
       "  '/NS/twitter-7/work/vnanda/adversarial_disparity/microsoft-smoothing/code/cifar100super/densenet_output',\n",
       "  '/NS/twitter-7/work/vnanda/adversarial_disparity/microsoft-smoothing/code/cifar100super/squeezenet_output'],\n",
       " ['/NS/twitter-7/work/vnanda/adversarial_disparity/microsoft-smoothing/code/cifar100super/deep_cnn_cifar100_epoch_0_output',\n",
       "  '/NS/twitter-7/work/vnanda/adversarial_disparity/microsoft-smoothing/code/cifar100super/pyramidnet_epoch_0_output',\n",
       "  '/NS/twitter-7/work/vnanda/adversarial_disparity/microsoft-smoothing/code/cifar100super/resnet_epoch_0_output',\n",
       "  '/NS/twitter-7/work/vnanda/adversarial_disparity/microsoft-smoothing/code/cifar100super/vgg_epoch_0_output',\n",
       "  '/NS/twitter-7/work/vnanda/adversarial_disparity/microsoft-smoothing/code/cifar100super/densenet_epoch_0_output',\n",
       "  '/NS/twitter-7/work/vnanda/adversarial_disparity/microsoft-smoothing/code/cifar100super/squeezenet_epoch_0_output'])"
      ]
     },
     "execution_count": 93,
     "metadata": {},
     "output_type": "execute_result"
    }
   ],
   "source": [
    "lb_files, lb_files_epoch_0"
   ]
  },
  {
   "cell_type": "code",
   "execution_count": 94,
   "metadata": {},
   "outputs": [],
   "source": [
    "def set_paper_friendly_plots_params():\n",
    "    plt.style.use('seaborn-paper')\n",
    "    plt.rcParams['font.size'] = 10\n",
    "    plt.rcParams['axes.labelsize'] = 22\n",
    "    plt.rcParams['axes.labelweight'] = 'bold'\n",
    "    plt.rcParams['axes.titlesize'] = 15\n",
    "    plt.rcParams['axes.linewidth'] = 1.25\n",
    "    plt.rcParams['xtick.labelsize'] = 16\n",
    "    plt.rcParams['ytick.labelsize'] = 16\n",
    "    plt.rcParams['legend.fontsize'] = 20\n",
    "    plt.rcParams['figure.titlesize'] = 22\n",
    "    plt.rcParams['lines.linewidth'] = 4.0\n",
    "    plt.rcParams['grid.color'] = 'grey'\n",
    "    plt.rcParams['grid.linestyle'] = '--'\n",
    "    plt.rcParams['grid.linewidth'] = 0.25\n",
    "    plt.rcParams['figure.dpi'] = 50\n",
    "    plt.rcParams['savefig.dpi'] = 50"
   ]
  },
  {
   "cell_type": "code",
   "execution_count": 95,
   "metadata": {},
   "outputs": [],
   "source": [
    "heatmaps_for_sens_attrs, heatmaps_for_sens_attrs_epoch_0, x_labels, x_labels_epoch_0 = [], [], [], []\n",
    "\n",
    "for sens_attr in sens_attrs:\n",
    "    \n",
    "    if sens_attr == 'gender':\n",
    "\n",
    "        heatmaps_for_sens_attrs.append(np.zeros((len(models), len(ds_obj.genders))))\n",
    "        heatmaps_for_sens_attrs_epoch_0.append(np.zeros((len(models), len(ds_obj.genders))))\n",
    "\n",
    "        x_labels.append([ds_obj.get_image_protected_id_to_label(_id, 'gender') for _id in ds_obj.genders])\n",
    "        x_labels_epoch_0.append([ds_obj.get_image_protected_id_to_label(_id, 'gender') for _id in ds_obj.genders])\n",
    "\n",
    "    elif sens_attr == 'race':\n",
    "        \n",
    "        heatmaps_for_sens_attrs.append(np.zeros((len(models), len(ds_obj.races))))\n",
    "        heatmaps_for_sens_attrs_epoch_0.append(np.zeros((len(models), len(ds_obj.races))))\n",
    "        \n",
    "        x_labels.append([ds_obj.get_image_protected_id_to_label(_id, 'race') for _id in ds_obj.races])\n",
    "        x_labels_epoch_0.append([ds_obj.get_image_protected_id_to_label(_id, 'race') for _id in ds_obj.races])\n",
    "\n",
    "    elif sens_attr == 'label':\n",
    "        \n",
    "        heatmaps_for_sens_attrs.append(np.zeros((len(models), len(ds_obj.classes))))\n",
    "        heatmaps_for_sens_attrs_epoch_0.append(np.zeros((len(models), len(ds_obj.classes))))\n",
    "        \n",
    "        x_labels.append(ds_obj.classes)\n",
    "        x_labels_epoch_0.append(ds_obj.classes)\n",
    "\n",
    "    else:\n",
    "        raise ValueError('Sens attr {} not supported!'.format(sens_attr))"
   ]
  },
  {
   "cell_type": "code",
   "execution_count": 96,
   "metadata": {},
   "outputs": [
    {
     "data": {
      "text/plain": [
       "([['aquatic_mammals',\n",
       "   'fish',\n",
       "   'flowers',\n",
       "   'food_containers',\n",
       "   'fruit_and_vegetables',\n",
       "   'household_electrical_devices',\n",
       "   'household_furniture',\n",
       "   'insects',\n",
       "   'large_carnivores',\n",
       "   'large_man-made_outdoor_things',\n",
       "   'large_natural_outdoor_scenes',\n",
       "   'large_omnivores_and_herbivores',\n",
       "   'medium_mammals',\n",
       "   'non-insect_invertebrates',\n",
       "   'people',\n",
       "   'reptiles',\n",
       "   'small_mammals',\n",
       "   'trees',\n",
       "   'vehicles_1',\n",
       "   'vehicles_2']],\n",
       " [['aquatic_mammals',\n",
       "   'fish',\n",
       "   'flowers',\n",
       "   'food_containers',\n",
       "   'fruit_and_vegetables',\n",
       "   'household_electrical_devices',\n",
       "   'household_furniture',\n",
       "   'insects',\n",
       "   'large_carnivores',\n",
       "   'large_man-made_outdoor_things',\n",
       "   'large_natural_outdoor_scenes',\n",
       "   'large_omnivores_and_herbivores',\n",
       "   'medium_mammals',\n",
       "   'non-insect_invertebrates',\n",
       "   'people',\n",
       "   'reptiles',\n",
       "   'small_mammals',\n",
       "   'trees',\n",
       "   'vehicles_1',\n",
       "   'vehicles_2']])"
      ]
     },
     "execution_count": 96,
     "metadata": {},
     "output_type": "execute_result"
    }
   ],
   "source": [
    "x_labels, x_labels_epoch_0"
   ]
  },
  {
   "cell_type": "code",
   "execution_count": 97,
   "metadata": {},
   "outputs": [
    {
     "name": "stdout",
     "output_type": "stream",
     "text": [
      "2000\n",
      "1422\n",
      "{0: 72, 1: 68, 2: 84, 3: 80, 4: 79, 5: 68, 6: 71, 7: 56, 8: 65, 9: 83, 10: 90, 11: 71, 12: 51, 13: 80, 14: 90, 15: 46, 16: 58, 17: 90, 18: 62, 19: 58}\n",
      "2000\n",
      "1349\n",
      "{0: 49, 1: 75, 2: 71, 3: 72, 4: 86, 5: 58, 6: 68, 7: 53, 8: 64, 9: 84, 10: 78, 11: 60, 12: 55, 13: 74, 14: 76, 15: 52, 16: 59, 17: 88, 18: 65, 19: 62}\n",
      "2000\n",
      "1330\n",
      "{0: 49, 1: 67, 2: 77, 3: 84, 4: 75, 5: 67, 6: 61, 7: 55, 8: 60, 9: 78, 10: 78, 11: 64, 12: 56, 13: 66, 14: 78, 15: 51, 16: 46, 17: 87, 18: 66, 19: 65}\n",
      "871\n",
      "674\n",
      "{0: 28, 1: 32, 2: 32, 3: 44, 4: 38, 5: 32, 6: 39, 7: 20, 8: 33, 9: 45, 10: 45, 11: 30, 12: 19, 13: 25, 14: 44, 15: 35, 16: 28, 17: 36, 18: 28, 19: 41}\n",
      "80\n",
      "58\n",
      "{0: 2, 1: 3, 2: 1, 3: 4, 4: 3, 5: 5, 6: 4, 7: 2, 8: 1, 9: 4, 10: 4, 11: 1, 12: 5, 13: 4, 14: 2, 15: 2, 16: 2, 17: 3, 18: 2, 19: 4}\n",
      "529\n",
      "296\n",
      "{0: 10, 1: 21, 2: 14, 3: 19, 4: 18, 5: 14, 6: 9, 7: 9, 8: 8, 9: 23, 10: 23, 11: 18, 12: 10, 13: 9, 14: 16, 15: 8, 16: 13, 17: 22, 18: 9, 19: 23}\n",
      "1599\n",
      "127\n",
      "deep_cnn_cifar100_epoch_0_output {0: 12, 2: 35, 4: 1, 8: 3, 9: 73, 15: 3}\n",
      "95\n",
      "23\n",
      "pyramidnet_epoch_0_output {0: 1, 1: 1, 5: 2, 6: 2, 8: 2, 9: 2, 10: 5, 12: 1, 16: 2, 17: 3, 19: 2}\n",
      "2000\n",
      "1137\n",
      "resnet_epoch_0_output {0: 46, 1: 62, 2: 80, 3: 65, 4: 66, 5: 60, 6: 58, 7: 50, 8: 51, 9: 62, 10: 74, 11: 49, 12: 42, 13: 34, 14: 72, 15: 40, 16: 33, 17: 87, 18: 53, 19: 53}\n",
      "818\n",
      "557\n",
      "vgg_epoch_0_output {0: 17, 1: 26, 2: 30, 3: 41, 4: 28, 5: 23, 6: 32, 7: 23, 8: 26, 9: 38, 10: 38, 11: 27, 12: 14, 13: 19, 14: 37, 15: 29, 16: 22, 17: 34, 18: 21, 19: 32}\n",
      "80\n",
      "52\n",
      "densenet_epoch_0_output {0: 1, 1: 4, 2: 1, 3: 2, 4: 2, 5: 5, 6: 3, 7: 2, 8: 2, 9: 3, 10: 6, 12: 3, 13: 4, 14: 2, 15: 3, 16: 2, 17: 3, 18: 1, 19: 3}\n",
      "530\n",
      "140\n",
      "squeezenet_epoch_0_output {0: 3, 1: 7, 2: 8, 3: 11, 4: 16, 5: 6, 6: 9, 7: 4, 9: 21, 10: 13, 11: 16, 14: 6, 16: 1, 17: 17, 18: 2}\n"
     ]
    }
   ],
   "source": [
    "for model_idx, file in enumerate(lb_files):\n",
    "    for heatmap_idx, sens_attr in enumerate(sens_attrs):\n",
    "        df = pd.read_csv(file, sep='\\t')\n",
    "        print (len(df))\n",
    "        try:\n",
    "            df = df[df['label'] == df['base_prediction']] # take only correct predictions\n",
    "        except:\n",
    "            df = df[df['label'] == df['base']] # take only correct predictions\n",
    "        print (len(df))\n",
    "        unique, counts = np.unique(df['label'].to_numpy(), return_counts=True)\n",
    "        print (dict(zip(unique, counts)))\n",
    "        range_lb = np.linspace(np.min(df['radius']), np.max(df['radius']), 100)\n",
    "        \n",
    "        if paper_friendly_plots:\n",
    "            set_paper_friendly_plots_params()\n",
    "        \n",
    "        for idx, attr in enumerate(np.unique(df[sens_attr].to_numpy())):\n",
    "            minority_radii, majority_radii = df['radius'][df[sens_attr] == attr], \\\n",
    "                df['radius'][df[sens_attr] != attr]\n",
    "            minority_cdf_vals = np.array([np.sum(minority_radii > t)/len(minority_radii) for t in range_lb])\n",
    "            majority_cdf_vals = np.array([np.sum(majority_radii > t)/len(majority_radii) for t in range_lb])\n",
    "            dt = range_lb[1] - range_lb[0]\n",
    "            minority_auc = np.sum(minority_cdf_vals * dt)\n",
    "            majority_auc = np.sum(majority_cdf_vals * dt)\n",
    "            \n",
    "            if sens_attr == 'label':\n",
    "                y_coord = int(attr)\n",
    "            else:\n",
    "                y_coord = ds_obj.get_image_protected_label_to_id(attr, sens_attr)\n",
    "\n",
    "            heatmaps_for_sens_attrs[heatmap_idx][model_idx, y_coord] = (minority_auc - majority_auc)/majority_auc\n",
    "\n",
    "for model_idx, file in enumerate(lb_files_epoch_0):\n",
    "    for heatmap_idx, sens_attr in enumerate(sens_attrs):\n",
    "        df = pd.read_csv(file, sep='\\t')\n",
    "        print (len(df))\n",
    "        try:\n",
    "            df = df[df['label'] == df['base_prediction']] # take only correct predictions\n",
    "        except:\n",
    "            df = df[df['label'] == df['base']] # take only correct predictions\n",
    "        print (len(df))\n",
    "        unique, counts = np.unique(df['label'].to_numpy(), return_counts=True)\n",
    "        print (file.split('/')[-1], dict(zip(unique, counts)))\n",
    "        range_lb = np.linspace(np.min(df['radius']), np.max(df['radius']), 100)\n",
    "        \n",
    "        if paper_friendly_plots:\n",
    "            set_paper_friendly_plots_params()\n",
    "        \n",
    "        for idx, attr in enumerate(np.unique(df[sens_attr].to_numpy())):\n",
    "            minority_radii, majority_radii = df['radius'][df[sens_attr] == attr], \\\n",
    "                df['radius'][df[sens_attr] != attr]\n",
    "            minority_cdf_vals = np.array([np.sum(minority_radii > t)/len(minority_radii) for t in range_lb])\n",
    "            majority_cdf_vals = np.array([np.sum(majority_radii > t)/len(majority_radii) for t in range_lb])\n",
    "            dt = range_lb[1] - range_lb[0]\n",
    "            minority_auc = np.sum(minority_cdf_vals * dt)\n",
    "            majority_auc = np.sum(majority_cdf_vals * dt)\n",
    "            \n",
    "            if sens_attr == 'label':\n",
    "                y_coord = int(attr)\n",
    "            else:\n",
    "                y_coord = ds_obj.get_image_protected_label_to_id(attr, sens_attr)\n",
    "            \n",
    "            sigma = (minority_auc - majority_auc)/majority_auc\n",
    "            heatmaps_for_sens_attrs_epoch_0[heatmap_idx][model_idx, y_coord] = sigma \\\n",
    "                if not np.isnan(sigma) else 0."
   ]
  },
  {
   "cell_type": "code",
   "execution_count": 98,
   "metadata": {},
   "outputs": [
    {
     "data": {
      "text/plain": [
       "20"
      ]
     },
     "execution_count": 98,
     "metadata": {},
     "output_type": "execute_result"
    }
   ],
   "source": [
    "heatmaps_for_sens_attrs[0].shape[1]"
   ]
  },
  {
   "cell_type": "code",
   "execution_count": 99,
   "metadata": {},
   "outputs": [
    {
     "data": {
      "text/plain": [
       "[array([[-0.22901787,  0.07412822,  0.24002937, -0.12867986,  0.11765717,\n",
       "         -0.12726512, -0.04352012, -0.05513812, -0.40928742, -0.05017405,\n",
       "          0.31805513, -0.43126215,  0.12199262,  0.00668355,  0.00380747,\n",
       "          0.03838155, -0.33404481,  0.52103116,  0.00108083,  0.1559376 ],\n",
       "        [-0.32240723,  0.03782067,  0.54458614, -0.21853387,  0.20140933,\n",
       "         -0.03118157, -0.10987745,  0.03621083, -0.21843707,  0.03293778,\n",
       "          0.31175644, -0.52272335, -0.00453255, -0.23189446, -0.00382844,\n",
       "         -0.00382127, -0.56617055,  0.64665869, -0.01358895,  0.03281054],\n",
       "        [-0.04130195,  0.04078218,  0.28271655,  0.04734284,  0.12275567,\n",
       "          0.04553566,  0.06152167, -0.00667968, -0.18792075, -0.05189337,\n",
       "          0.21365123, -0.23992376, -0.12479427, -0.12781818,  0.04709125,\n",
       "         -0.24434367, -0.43066567,  0.34698283, -0.0298307 , -0.13088775],\n",
       "        [-0.23519783, -0.07553645,  0.41580106, -0.173822  ,  0.28065794,\n",
       "         -0.06064802,  0.018671  , -0.08348875,  0.15370828, -0.03277813,\n",
       "          0.25460938, -0.52591132, -0.13320676, -0.048131  , -0.19508514,\n",
       "         -0.00968345, -0.39206128,  0.61871869, -0.05084706,  0.04215563],\n",
       "        [-0.04052216,  0.24590471,  0.52348812, -0.38383283, -0.04656524,\n",
       "          0.03399711,  0.16033695, -0.31357759,  0.1155496 ,  0.08122692,\n",
       "         -0.51457369, -0.97000789, -0.19960407,  0.32544037,  0.2297557 ,\n",
       "          0.26992853, -0.25161987,  0.05533927,  0.19769674,  0.45064065],\n",
       "        [ 0.04382786,  0.18744535,  0.20102395,  0.17266807,  0.08528972,\n",
       "         -0.27128301,  0.14175969, -0.015513  , -0.26288581,  0.00863802,\n",
       "          0.31629385, -0.24788773, -0.35660167, -0.51931953,  0.14845197,\n",
       "         -0.72616724, -0.26340506,  0.37887647,  0.19622358, -0.15239948]])]"
      ]
     },
     "execution_count": 99,
     "metadata": {},
     "output_type": "execute_result"
    }
   ],
   "source": [
    "heatmaps_for_sens_attrs"
   ]
  },
  {
   "cell_type": "markdown",
   "metadata": {},
   "source": [
    "## Plotting the heatmaps"
   ]
  },
  {
   "cell_type": "code",
   "execution_count": 100,
   "metadata": {},
   "outputs": [],
   "source": [
    "from matplotlib.gridspec import GridSpec\n",
    "from matplotlib import colors"
   ]
  },
  {
   "cell_type": "code",
   "execution_count": 101,
   "metadata": {},
   "outputs": [
    {
     "name": "stdout",
     "output_type": "stream",
     "text": [
      "['aquatic_mammals', 'fish', 'flowers', 'food_containers', 'fruit_and_vegetables', 'household_electrical_devices', 'household_furniture', 'insects', 'large_carnivores', 'large_man-made_outdoor_things', 'large_natural_outdoor_scenes', 'large_omnivores_and_herbivores', 'medium_mammals', 'non-insect_invertebrates', 'people', 'reptiles', 'small_mammals', 'trees', 'vehicles_1', 'vehicles_2']\n",
      "['aquatic_mammals', 'fish', 'flowers', 'food_containers', 'fruit_and_vegetables', 'household_electrical_devices', 'household_furniture', 'insects', 'large_carnivores', 'large_man-made_outdoor_things', 'large_natural_outdoor_scenes', 'large_omnivores_and_herbivores', 'medium_mammals', 'non-insect_invertebrates', 'people', 'reptiles', 'small_mammals', 'trees', 'vehicles_1', 'vehicles_2']\n"
     ]
    },
    {
     "data": {
      "image/png": "[encoded data removed]",
      "text/plain": [
       "<Figure size 1000x400 with 3 Axes>"
      ]
     },
     "metadata": {
      "needs_background": "light"
     },
     "output_type": "display_data"
    }
   ],
   "source": [
    "op_filename = '{}_lbs_heatmap'.format(dataset)\n",
    "\n",
    "if dataset == 'utkface':\n",
    "    fig = plt.figure(figsize=(20,8))\n",
    "    gs = GridSpec(1, 7, width_ratios=[10., 4., 10., 10., 10., 4., 10.])\n",
    "\n",
    "    axes = [fig.add_subplot(gs[0]), fig.add_subplot(gs[1]), fig.add_subplot(gs[2])]\n",
    "    axes_epoch_0 = [fig.add_subplot(gs[4]), fig.add_subplot(gs[5]), fig.add_subplot(gs[6])]\n",
    "\n",
    "elif dataset == 'adience':\n",
    "    fig = plt.figure(figsize=(20,8))\n",
    "    gs = GridSpec(1, 5, width_ratios=[10., 2.5, 5., 10., 2.5])\n",
    "    axes = [fig.add_subplot(gs[0]), fig.add_subplot(gs[1])]\n",
    "    axes_epoch_0 = [fig.add_subplot(gs[3]), fig.add_subplot(gs[4])]\n",
    "\n",
    "elif dataset == 'cifar10':\n",
    "    fig = plt.figure(figsize=(20,8))\n",
    "    gs = GridSpec(1, 3, width_ratios=[10., 2.5, 10.])\n",
    "    axes = [fig.add_subplot(gs[0])]\n",
    "    axes_epoch_0 = [fig.add_subplot(gs[2])]\n",
    "\n",
    "elif dataset == 'cifar100super':\n",
    "    fig = plt.figure(figsize=(20,8))\n",
    "    gs = GridSpec(1, 3, width_ratios=[10., 2.5, 10.])\n",
    "    axes = [fig.add_subplot(gs[0])]\n",
    "    axes_epoch_0 = [fig.add_subplot(gs[2])]\n",
    "\n",
    "elif dataset == 'cifar100':\n",
    "    fig = plt.figure(figsize=(30,10))\n",
    "    gs = GridSpec(3, 1, height_ratios=[10, 1., 10])\n",
    "    axes = [fig.add_subplot(gs[0])]\n",
    "    axes_epoch_0 = [fig.add_subplot(gs[2])]\n",
    "\n",
    "\n",
    "pcms = []\n",
    "\n",
    "m = np.max([np.max(np.abs(hm)) for hm in heatmaps_for_sens_attrs + heatmaps_for_sens_attrs_epoch_0])\n",
    "\n",
    "for (idx, heatmap), x_label in zip(enumerate(heatmaps_for_sens_attrs), x_labels):\n",
    "    print (x_label)\n",
    "    pcms.append(axes[idx].imshow(heatmap, cmap='RdBu', \n",
    "                     norm=colors.SymLogNorm(linthresh=0.03, linscale=0.03, vmin=-m, vmax=m)))\n",
    "    axes[idx].set_xticks(range(len(x_label)))\n",
    "    axes[idx].set_xticklabels(x_label, rotation=90, fontsize=18)\n",
    "    axes[idx].set_yticks(range(heatmap.shape[0]))\n",
    "    if idx == 0:\n",
    "        axes[idx].set_yticklabels(models, fontsize=18)\n",
    "    else:\n",
    "        axes[idx].set_yticklabels([])\n",
    "\n",
    "for (idx, heatmap), x_label in zip(enumerate(heatmaps_for_sens_attrs_epoch_0), x_labels_epoch_0):\n",
    "    print (x_label)\n",
    "    pcms.append(axes_epoch_0[idx].imshow(heatmap, cmap='RdBu', \n",
    "                     norm=colors.SymLogNorm(linthresh=0.03, linscale=0.03, vmin=-m, vmax=m)))\n",
    "    axes_epoch_0[idx].set_xticks(range(len(x_label)))\n",
    "    axes_epoch_0[idx].set_xticklabels(x_label, rotation=90, fontsize=18)\n",
    "    axes_epoch_0[idx].set_yticks(range(heatmap.shape[0]))\n",
    "    if idx == 0:\n",
    "        axes_epoch_0[idx].set_yticklabels(models, fontsize=18)\n",
    "    else:\n",
    "        axes_epoch_0[idx].set_yticklabels([])\n",
    "\n",
    "        \n",
    "cbar = plt.colorbar(pcms[0], ax=axes + axes_epoch_0, use_gridspec=True, \n",
    "                    fraction=0.02, ticks=np.linspace(-m, m, 7))\n",
    "cbar.ax.set_yticklabels(['{:.2f}'.format(x) for x in np.linspace(-m, m, 7)], fontsize=16)\n",
    "\n",
    "# fig.suptitle(\"Final Trained Model\", fontsize=30)\n",
    "\n",
    "if dataset == 'utkface':\n",
    "    heading_coordinate = (3, -3)\n",
    "    subplot_1_coordinate = (-5., -1.5)\n",
    "    subplot_2_coordinate = (-4.5, -1.5)\n",
    "    axis_1, axis_2 = axes[1], axes_epoch_0[1]\n",
    "elif dataset == 'adience':\n",
    "    heading_coordinate = (1, -3)\n",
    "    subplot_1_coordinate = (-7., -1.5)\n",
    "    subplot_2_coordinate = (-6.7, -1.5)\n",
    "    axis_1, axis_2 = axes[1], axes_epoch_0[1]\n",
    "elif dataset == 'cifar10':\n",
    "    heading_coordinate = (7, -3)\n",
    "    subplot_1_coordinate = (1.5, -1.5)\n",
    "    subplot_2_coordinate = (2, -1.5)\n",
    "    axis_1, axis_2 = axes[0], axes_epoch_0[0]\n",
    "elif dataset == 'cifar100super':\n",
    "    heading_coordinate = (16, -3)\n",
    "    subplot_1_coordinate = (3.5, -1.5)\n",
    "    subplot_2_coordinate = (4.5, -1.5)\n",
    "    axis_1, axis_2 = axes[0], axes_epoch_0[0]\n",
    "elif dataset == 'cifar100':\n",
    "    heading_coordinate = (35, -5)\n",
    "    subplot_1_coordinate = (38.5, -1.5)\n",
    "    subplot_2_coordinate = (41.5, -1.5)\n",
    "    axis_1, axis_2 = axes[0], axes_epoch_0[0]\n",
    "\n",
    "    \n",
    "axis_1.text(*heading_coordinate, \n",
    "              \"Randomized Smoothing\",\n",
    "              fontsize=30)\n",
    "axis_1.text(*subplot_1_coordinate, \n",
    "              \"Final Trained Model\",\n",
    "              fontsize=25)\n",
    "axis_2.text(*subplot_2_coordinate, \n",
    "              \"After Epoch 1\",\n",
    "              fontsize=25)\n",
    "\n",
    "\n",
    "file_format = 'pdf' if paper_friendly_plots else 'png'\n",
    "        \n",
    "plt.savefig('{}/{}.{}'.format(dataset, op_filename, file_format), bbox_inches='tight')\n",
    "plt.show()"
   ]
  },
  {
   "cell_type": "code",
   "execution_count": null,
   "metadata": {},
   "outputs": [],
   "source": []
  }
 ],
 "metadata": {
  "kernelspec": {
   "display_name": "Python 3",
   "language": "python",
   "name": "python3"
  },
  "language_info": {
   "codemirror_mode": {
    "name": "ipython",
    "version": 3
   },
   "file_extension": ".py",
   "mimetype": "text/x-python",
   "name": "python",
   "nbconvert_exporter": "python",
   "pygments_lexer": "ipython3",
   "version": "3.7.6"
  }
 },
 "nbformat": 4,
 "nbformat_minor": 2
}
